{
 "cells": [
  {
   "cell_type": "code",
   "execution_count": 1,
   "id": "5fb57ff2",
   "metadata": {
    "ExecuteTime": {
     "end_time": "2022-08-13T15:09:45.103766Z",
     "start_time": "2022-08-13T15:09:45.064768Z"
    }
   },
   "outputs": [
    {
     "name": "stdout",
     "output_type": "stream",
     "text": [
      "Element is present at index 4\n"
     ]
    }
   ],
   "source": [
    "#1\n",
    "def binary_search(list1, n):  \n",
    "    low = 0  \n",
    "    high = len(list1) - 1  \n",
    "    mid = 0  \n",
    "  \n",
    "    while low <= high:  \n",
    "        # for get integer result   \n",
    "        mid = (high + low) // 2  \n",
    "  \n",
    "        # Check if n is present at mid   \n",
    "        if list1[mid] < n:  \n",
    "            low = mid + 1  \n",
    "  \n",
    "        # If n is greater, compare to the right of mid   \n",
    "        elif list1[mid] > n:  \n",
    "            high = mid - 1  \n",
    "  \n",
    "        # If n is smaller, compared to the left of mid  \n",
    "        else:  \n",
    "            return mid  \n",
    "  \n",
    "            # element was not present in the list, return -1  \n",
    "    return -1  \n",
    "  \n",
    "  \n",
    "# Initial list1  \n",
    "list1 = [12, 24, 32, 39, 45, 50, 54]  \n",
    "n = 45  \n",
    "  \n",
    "# Function call   \n",
    "result = binary_search(list1, n)  \n",
    "  \n",
    "if result != -1:  \n",
    "    print(\"Element is present at index\", str(result))  \n",
    "else:  \n",
    "    print(\"Element is not present in list1\")  "
   ]
  },
  {
   "cell_type": "code",
   "execution_count": 2,
   "id": "5646b14d",
   "metadata": {
    "ExecuteTime": {
     "end_time": "2022-08-13T15:10:22.267483Z",
     "start_time": "2022-08-13T15:10:22.246514Z"
    }
   },
   "outputs": [
    {
     "name": "stdout",
     "output_type": "stream",
     "text": [
      "espresso 72\n",
      "latte 56\n",
      "cappuccino 54\n",
      "americano 48\n",
      "cortado 41\n"
     ]
    }
   ],
   "source": [
    "#2\n",
    "orders = {\n",
    "'cappuccino': 54,\n",
    "'latte': 56,\n",
    "'espresso': 72,\n",
    "'americano': 48,\n",
    "'cortado': 41\n",
    "}\n",
    "\n",
    "sort_orders = sorted(orders.items(), key=lambda x: x[1], reverse=True)\n",
    "\n",
    "for i in sort_orders:\n",
    "\tprint(i[0], i[1])"
   ]
  },
  {
   "cell_type": "code",
   "execution_count": 5,
   "id": "ce377444",
   "metadata": {
    "ExecuteTime": {
     "end_time": "2022-08-13T15:38:42.960979Z",
     "start_time": "2022-08-13T15:38:42.941980Z"
    }
   },
   "outputs": [],
   "source": [
    "import MYdslib\n"
   ]
  },
  {
   "cell_type": "code",
   "execution_count": 7,
   "id": "bc7df84e",
   "metadata": {
    "ExecuteTime": {
     "end_time": "2022-08-13T15:40:18.600936Z",
     "start_time": "2022-08-13T15:40:18.569936Z"
    }
   },
   "outputs": [
    {
     "data": {
      "text/plain": [
       "15"
      ]
     },
     "execution_count": 7,
     "metadata": {},
     "output_type": "execute_result"
    }
   ],
   "source": [
    "MYdslib.returnvalue(5)"
   ]
  },
  {
   "cell_type": "code",
   "execution_count": 8,
   "id": "22fb0e02",
   "metadata": {
    "ExecuteTime": {
     "end_time": "2022-08-13T15:40:36.147240Z",
     "start_time": "2022-08-13T15:40:36.126276Z"
    }
   },
   "outputs": [
    {
     "data": {
      "text/plain": [
       "10"
      ]
     },
     "execution_count": 8,
     "metadata": {},
     "output_type": "execute_result"
    }
   ],
   "source": [
    "MYdslib.max(5,10)"
   ]
  },
  {
   "cell_type": "code",
   "execution_count": 9,
   "id": "71553128",
   "metadata": {
    "ExecuteTime": {
     "end_time": "2022-08-13T15:40:48.434813Z",
     "start_time": "2022-08-13T15:40:48.423812Z"
    }
   },
   "outputs": [
    {
     "data": {
      "text/plain": [
       "{'name': 'amr', 'age': 22}"
      ]
     },
     "execution_count": 9,
     "metadata": {},
     "output_type": "execute_result"
    }
   ],
   "source": [
    "MYdslib.myDic"
   ]
  },
  {
   "cell_type": "code",
   "execution_count": 12,
   "id": "c98bc347",
   "metadata": {
    "ExecuteTime": {
     "end_time": "2022-08-14T15:30:29.981248Z",
     "start_time": "2022-08-14T15:30:29.973162Z"
    }
   },
   "outputs": [],
   "source": [
    "#5\n",
    "from queue import LifoQueue as stack"
   ]
  },
  {
   "cell_type": "code",
   "execution_count": 13,
   "id": "e950ec5e",
   "metadata": {
    "ExecuteTime": {
     "end_time": "2022-08-14T15:31:00.818514Z",
     "start_time": "2022-08-14T15:31:00.805269Z"
    }
   },
   "outputs": [],
   "source": [
    "st=stack()"
   ]
  },
  {
   "cell_type": "code",
   "execution_count": null,
   "id": "e6742d46",
   "metadata": {
    "ExecuteTime": {
     "start_time": "2022-08-14T15:31:10.718Z"
    }
   },
   "outputs": [
    {
     "name": "stdout",
     "output_type": "stream",
     "text": [
      "6\n"
     ]
    }
   ],
   "source": [
    "x=input()\n",
    "while(True):\n",
    "    if x==0:\n",
    "        break\n",
    "    else:\n",
    "        st.put(x)\n",
    "    "
   ]
  },
  {
   "cell_type": "code",
   "execution_count": null,
   "id": "23f384af",
   "metadata": {},
   "outputs": [],
   "source": []
  }
 ],
 "metadata": {
  "kernelspec": {
   "display_name": "Python 3 (ipykernel)",
   "language": "python",
   "name": "python3"
  },
  "language_info": {
   "codemirror_mode": {
    "name": "ipython",
    "version": 3
   },
   "file_extension": ".py",
   "mimetype": "text/x-python",
   "name": "python",
   "nbconvert_exporter": "python",
   "pygments_lexer": "ipython3",
   "version": "3.9.7"
  }
 },
 "nbformat": 4,
 "nbformat_minor": 5
}
